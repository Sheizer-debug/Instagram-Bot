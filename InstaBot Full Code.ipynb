{
 "cells": [
  {
   "cell_type": "markdown",
   "id": "4767cbb9",
   "metadata": {},
   "source": [
    "# LIBRARIES"
   ]
  },
  {
   "cell_type": "code",
   "execution_count": 1,
   "id": "ee58858a",
   "metadata": {},
   "outputs": [],
   "source": [
    "import time\n",
    "import warnings\n",
    "from selenium import webdriver\n",
    "from webdriver_manager.chrome import ChromeDriverManager\n",
    "from selenium.webdriver.support.ui import WebDriverWait\n",
    "from selenium.webdriver.support import expected_conditions as EC\n",
    "from selenium.webdriver.common.by import By\n",
    "from selenium.common.exceptions import NoSuchElementException\n",
    "from bs4 import BeautifulSoup\n",
    "import matplotlib.pyplot as plt\n",
    "import numpy as np\n",
    "import pandas as pd"
   ]
  },
  {
   "cell_type": "code",
   "execution_count": 2,
   "id": "dee92b5d",
   "metadata": {},
   "outputs": [
    {
     "name": "stderr",
     "output_type": "stream",
     "text": [
      "\n",
      "\n",
      "====== WebDriver manager ======\n",
      "Current google-chrome version is 100.0.4896\n",
      "Get LATEST chromedriver version for 100.0.4896 google-chrome\n",
      "Driver [C:\\Users\\shrey\\.wdm\\drivers\\chromedriver\\win32\\100.0.4896.60\\chromedriver.exe] found in cache\n",
      "C:\\Users\\shrey\\AppData\\Local\\Temp/ipykernel_25516/667484331.py:1: DeprecationWarning: executable_path has been deprecated, please pass in a Service object\n",
      "  driver=webdriver.Chrome(ChromeDriverManager().install())#install webdriver\n"
     ]
    }
   ],
   "source": [
    "driver=webdriver.Chrome(ChromeDriverManager().install())#install webdriver"
   ]
  },
  {
   "cell_type": "markdown",
   "id": "7c5d3bdd",
   "metadata": {},
   "source": [
    "# LOGIN"
   ]
  },
  {
   "cell_type": "code",
   "execution_count": 3,
   "id": "4ded3c3b",
   "metadata": {},
   "outputs": [],
   "source": [
    "def login(username,password):\n",
    "    warnings.filterwarnings('ignore')\n",
    "    driver.get('https://www.instagram.com')#open instagram\n",
    "    time.sleep(5)#wait for page to load\n",
    "    user=driver.find_element_by_name('username')#find username element\n",
    "    user.send_keys(username)#enter username\n",
    "    pwd=driver.find_element_by_name('password')#find password element\n",
    "    pwd.send_keys(password)#enter password\n",
    "    driver.find_element_by_tag_name('button').submit()#submit credentials\n",
    "    wait=WebDriverWait(driver,7)#wait for submission\n",
    "    wait.until(EC.presence_of_element_located((By.XPATH,'//div[@class=\"cmbtv\"]/button'))).click()\n",
    "    wait.until(EC.presence_of_element_located((By.CLASS_NAME,'HoLwm'))).click()#dismiss popups"
   ]
  },
  {
   "cell_type": "markdown",
   "id": "3dd6ded2",
   "metadata": {},
   "source": [
    " # SEARCHING A KEYWORD"
   ]
  },
  {
   "cell_type": "code",
   "execution_count": 4,
   "id": "71117486",
   "metadata": {},
   "outputs": [],
   "source": [
    "def search(query):\n",
    "    wait=WebDriverWait(driver,30)\n",
    "    btn=wait.until(EC.presence_of_element_located((By.CLASS_NAME,'XTCLo')))#find search bar element\n",
    "    btn.send_keys(query)#enter handle name\n",
    "    time.sleep(5)#wait for page to load matches\n",
    "    c=1\n",
    "    while(1):\n",
    "        try:       \n",
    "            path='//*[@id=\"react-root\"]/section/nav/div[2]/div/div/div[2]/div[3]/div/div[2]/div/div['+str(c)+']/a/div'#select each of the matches one by one\n",
    "            name=driver.find_element_by_xpath(path)\n",
    "            if(name.text.split()[0]==query):\n",
    "                c+=1\n",
    "                continue\n",
    "            print(name.text.split()[0])#print handles\n",
    "            c+=1\n",
    "        except NoSuchElementException:#to check if list of matches has been exhausted\n",
    "            break\n",
    "    driver.find_element_by_class_name('coreSpriteSearchClear').click()#manually close search bar"
   ]
  },
  {
   "cell_type": "markdown",
   "id": "2d535e27",
   "metadata": {},
   "source": [
    "# SEARCHING AND OPENING PROFILE"
   ]
  },
  {
   "cell_type": "code",
   "execution_count": 5,
   "id": "e732f7f4",
   "metadata": {},
   "outputs": [],
   "source": [
    "def openProf(profile_name):\n",
    "    wait=WebDriverWait(driver,30)\n",
    "    btn=wait.until(EC.presence_of_element_located((By.CLASS_NAME,'XTCLo')))\n",
    "    btn.send_keys(profile_name)#search handle\n",
    "    wait=WebDriverWait(driver,30)\n",
    "    wait.until(EC.presence_of_element_located((By.CLASS_NAME,'-qQT3'))).click()#select first search match"
   ]
  },
  {
   "cell_type": "markdown",
   "id": "42566316",
   "metadata": {},
   "source": [
    "# FOLLOW"
   ]
  },
  {
   "cell_type": "code",
   "execution_count": 6,
   "id": "aba576da",
   "metadata": {},
   "outputs": [],
   "source": [
    "def follow():\n",
    "    btn=driver.find_element_by_class_name('yZn4P')\n",
    "    if(btn.text==''):#check if button text has any value or not\n",
    "        print('Already following')\n",
    "    else:\n",
    "        btn.click()\n",
    "        print('Followed')"
   ]
  },
  {
   "cell_type": "markdown",
   "id": "9ada4a55",
   "metadata": {},
   "source": [
    "# UNFOLLOW"
   ]
  },
  {
   "cell_type": "code",
   "execution_count": 7,
   "id": "f3399d9c",
   "metadata": {},
   "outputs": [],
   "source": [
    "def unfollow():\n",
    "    btn=driver.find_element_by_class_name('yZn4P')\n",
    "    if(btn.text=='Follow'):#check if button text has any value or not\n",
    "        print('Already unfollowed')\n",
    "    else:\n",
    "        btn.click()\n",
    "        driver.find_element_by_class_name('-Cab_').click()#confirm unfollow\n",
    "        print('Unfollowed')"
   ]
  },
  {
   "cell_type": "markdown",
   "id": "fffbe69f",
   "metadata": {},
   "source": [
    "#  LIKE POSTS"
   ]
  },
  {
   "cell_type": "code",
   "execution_count": 8,
   "id": "0303a244",
   "metadata": {},
   "outputs": [],
   "source": [
    "def like(num):\n",
    "    wait=WebDriverWait(driver,30)\n",
    "    wait.until(EC.presence_of_element_located((By.CLASS_NAME,'_9AhH0'))).click()#load and open first post\n",
    "    c=0\n",
    "    while(c<=num):\n",
    "        try:\n",
    "            btn=wait.until(EC.visibility_of_element_located((By.CLASS_NAME,'fr66n')))\n",
    "            html=btn.get_attribute('innerHTML')\n",
    "            data=BeautifulSoup(html)\n",
    "            if(data.svg.attrs['aria-label']=='Unlike'):#if 'Unlike' then it is already liked and vice versa\n",
    "                print('Already Liked Post',c)\n",
    "            else:\n",
    "                btn.click()\n",
    "            c+=1\n",
    "            wait.until(EC.element_to_be_clickable((By.XPATH,'//div[contains(@class,\"l8mY4\")]/button'))).click()#scroll to next post without exiting\n",
    "            #time.sleep(5)\n",
    "        except NoSuchElementException:\n",
    "            break\n",
    "    wait.until(EC.element_to_be_clickable((By.XPATH,'/html/body/div[6]/div[1]/button'))).click()#close post popup\n",
    "    print(str(c)+\" posts liked\")"
   ]
  },
  {
   "cell_type": "markdown",
   "id": "3d526e3c",
   "metadata": {},
   "source": [
    "# UNLIKE POSTS"
   ]
  },
  {
   "cell_type": "code",
   "execution_count": 9,
   "id": "bcc3835c",
   "metadata": {},
   "outputs": [],
   "source": [
    "def unlike(num):\n",
    "    wait=WebDriverWait(driver,30)\n",
    "    wait.until(EC.presence_of_element_located((By.CLASS_NAME,'_9AhH0'))).click()#load and open first post\n",
    "    c=0\n",
    "    time.sleep(5)\n",
    "    while(c<=num):\n",
    "        try:\n",
    "            btn=wait.until(EC.presence_of_element_located((By.CLASS_NAME,'fr66n')))#extract like button\n",
    "            html=btn.get_attribute('innerHTML')\n",
    "            data=BeautifulSoup(html)\n",
    "            if(data.svg.attrs['aria-label']=='Like'):#if 'like' then it is already Unliked and vice versa\n",
    "                print('Already Unliked Post',c)\n",
    "            else:\n",
    "                btn.click()\n",
    "            c+=1\n",
    "            wait.until(EC.element_to_be_clickable((By.XPATH,'//div[contains(@class,\"l8mY4\")]/button'))).click()#scroll to next post without exiting\n",
    "            #time.sleep(5)\n",
    "        except NoSuchElementException:\n",
    "            break\n",
    "    wait.until(EC.element_to_be_clickable((By.XPATH,'/html/body/div[6]/div[1]/button'))).click()#close post popup\n",
    "    print(str(c)+\" posts unliked\")"
   ]
  },
  {
   "cell_type": "markdown",
   "id": "57a1bdab",
   "metadata": {},
   "source": [
    "#  EXTRACTING LIST OF FOLLOWERS"
   ]
  },
  {
   "cell_type": "markdown",
   "id": "6fbd66dd",
   "metadata": {},
   "source": [
    "## User Specified Instagram Handle"
   ]
  },
  {
   "cell_type": "code",
   "execution_count": 10,
   "id": "039acd89",
   "metadata": {},
   "outputs": [],
   "source": [
    "def followers(handle,n):\n",
    "    handle_followers=[]\n",
    "    wait=WebDriverWait(driver,30)\n",
    "    btn=wait.until(EC.presence_of_element_located((By.CLASS_NAME,'XTCLo')))#search bar\n",
    "    btn.send_keys(handle)\n",
    "    wait.until(EC.presence_of_element_located((By.CLASS_NAME,'-qQT3'))).click()#submit search\n",
    "    btn=wait.until(EC.presence_of_element_located((By.XPATH,'//*[@id=\"react-root\"]/section/main/div/header/section/ul/li[2]/a/div/span')))\n",
    "    no_followers=float(btn.get_attribute('title').replace(',',''))#extract number of followers\n",
    "    wait.until(EC.presence_of_element_located((By.XPATH,'//*[@id=\"react-root\"]/section/main/div/header/section/ul/li[2]/a/div'))).click()#click on followers tab\n",
    "    wait.until(EC.presence_of_element_located((By.XPATH,'/html/body/div[6]/div/div/div/div[2]')))\n",
    "    scrollable_popup = driver.find_element(By.XPATH, '/html/body/div[6]/div/div/div/div[2]')\n",
    "    c=0\n",
    "    time.sleep(7)\n",
    "    while(c<=n and c<=no_followers):\n",
    "        try:\n",
    "            follower=wait.until(EC.visibility_of_element_located((By.XPATH,'/html/body/div[6]/div/div/div/div[2]/ul/div/li['+str(c)+']')))#scrape follower\n",
    "            text=follower.text.split()[0]\n",
    "            handle_followers.append(text)\n",
    "            print(follower.text.split()[0],c)\n",
    "            c+=1\n",
    "            driver.execute_script(\"arguments[0].scrollTop = arguments[0].scrollHeight\", scrollable_popup)\n",
    "            #time.sleep(7)\n",
    "        except:\n",
    "            continue    \n",
    "    wait.until(EC.element_to_be_clickable((By.XPATH,'//div[contains(@class,\"WaOAr\")]/div/button'))).click()#close post popup\n",
    "    return handle_followers"
   ]
  },
  {
   "cell_type": "markdown",
   "id": "9a4f20d9",
   "metadata": {},
   "source": [
    "## Own Followers and Following"
   ]
  },
  {
   "cell_type": "code",
   "execution_count": 11,
   "id": "bd0a8bac",
   "metadata": {},
   "outputs": [],
   "source": [
    "def own(handle_followers,n):\n",
    "    followers=[]\n",
    "    following=[]\n",
    "    wait=WebDriverWait(driver,30)\n",
    "    driver.find_element_by_xpath('//div[@class=\"J5g42\"]/div[6]/span').click()\n",
    "    driver.find_element_by_xpath('//div[@class=\"_01UL2\"]/a').click()\n",
    "    btn=wait.until(EC.presence_of_element_located((By.XPATH,'//*[@id=\"react-root\"]/section/main/div/header/section/ul/li[2]/a/div/span')))\n",
    "    no_followers=float(btn.get_attribute('title').replace(',',''))#extract number of followers\n",
    "    wait.until(EC.presence_of_element_located((By.XPATH,'//*[@id=\"react-root\"]/section/main/div/header/section/ul/li[2]/a/div'))).click()#click on followers tab\n",
    "    wait.until(EC.presence_of_element_located((By.XPATH,'/html/body/div[6]/div/div/div/div[2]')))\n",
    "    scrollable_popup = driver.find_element(By.XPATH, '/html/body/div[6]/div/div/div/div[2]')\n",
    "    c=0\n",
    "    while(c<=n and c<=no_followers):\n",
    "        try:\n",
    "            follower=wait.until(EC.visibility_of_element_located((By.XPATH,'/html/body/div[6]/div/div/div/div[2]/ul/div/li['+str(c)+']')))\n",
    "            text=follower.text.split()[0]\n",
    "            followers.append(text)\n",
    "            print(follower.text.split()[0],c)\n",
    "            c+=1\n",
    "            driver.execute_script(\"arguments[0].scrollTop = arguments[0].scrollHeight\", scrollable_popup)\n",
    "            time.sleep(2)\n",
    "        except:\n",
    "            pass\n",
    "    wait.until(EC.element_to_be_clickable((By.XPATH,'//div[contains(@class,\"WaOAr\")]/div/button'))).click()#close post popup\n",
    "    btn=wait.until(EC.presence_of_element_located((By.XPATH,'//*[@id=\"react-root\"]/section/main/div/header/section/ul/li[3]/a/div/span')))\n",
    "    no_followers=float(btn.get_attribute('title').replace(',',''))#extract number of following\n",
    "    wait.until(EC.presence_of_element_located((By.XPATH,'//*[@id=\"react-root\"]/section/main/div/header/section/ul/li[3]/a/div'))).click()\n",
    "    wait.until(EC.presence_of_element_located((By.XPATH,'/html/body/div[6]/div/div/div/div[3]')))\n",
    "    scrollable_popup = driver.find_element(By.XPATH, '/html/body/div[6]/div/div/div/div[3]')\n",
    "    c=1\n",
    "    while(c<=n and c<=no_followers):\n",
    "        try:\n",
    "            follower=wait.until(EC.visibility_of_element_located((By.XPATH,'/html/body/div[6]/div/div/div/div[3]/ul/div/li['+str(c)+']')))\n",
    "            text=follower.text.split()[0]\n",
    "            following.append(text)\n",
    "            print(follower.text.split()[0],c)\n",
    "            c+=1\n",
    "            driver.execute_script(\"arguments[0].scrollTop = arguments[0].scrollHeight\", scrollable_popup)\n",
    "            time.sleep(2)\n",
    "        except:\n",
    "            pass\n",
    "    wait.until(EC.element_to_be_clickable((By.XPATH,'//div[contains(@class,\"WaOAr\")]/div/button'))).click()#close post popup\n",
    "    non_friends=list(set(following)-set(followers))\n",
    "    handle_followers_non_friends=list(set(foodtalk)&set(non_friends))\n",
    "    if(len(handle_followers_non_friends)==0):\n",
    "        print('No Intersection Found')\n",
    "    else:\n",
    "        print(handle_followers_non_friends)"
   ]
  },
  {
   "cell_type": "markdown",
   "id": "112f1f03",
   "metadata": {},
   "source": [
    "# CHECKING STORIES"
   ]
  },
  {
   "cell_type": "code",
   "execution_count": 12,
   "id": "80342ba7",
   "metadata": {},
   "outputs": [],
   "source": [
    "def story():\n",
    "    wait=WebDriverWait(driver,30)\n",
    "    wait.until(EC.presence_of_element_located((By.CLASS_NAME,'RR-M-')))#load story element\n",
    "    story=driver.find_element_by_class_name('RR-M-')#locate story element\n",
    "    if_seen=wait.until(EC.presence_of_element_located((By.TAG_NAME,'canvas')))#load and select story circle\n",
    "    if(story.get_attribute('aria-disabled')=='true'):#if attribute value is true then story doesn't exist\n",
    "        print('No Story Available')\n",
    "    elif(if_seen.get_attribute('height')=='208'):#height and width is 208px \n",
    "            print('Already Viewed')#for viewed story for coding ninjas may vary for other handles                      \n",
    "    else:\n",
    "        story.click()"
   ]
  },
  {
   "cell_type": "markdown",
   "id": "5bb006ab",
   "metadata": {},
   "source": [
    "# COMMENT"
   ]
  },
  {
   "cell_type": "code",
   "execution_count": 13,
   "id": "6d3ec55c",
   "metadata": {},
   "outputs": [],
   "source": [
    "def comment(n):\n",
    "    wait=WebDriverWait(driver,30)\n",
    "    driver.refresh()\n",
    "    wait.until(EC.presence_of_element_located((By.CLASS_NAME,'_9AhH0'))).click()#load and open first post\n",
    "    wait.until(EC.presence_of_element_located((By.XPATH,'//section[contains(@class,\"sH9wk\")]/div/form/textarea'))).click()\n",
    "    wait.until(EC.presence_of_element_located((By.TAG_NAME,'textarea'))).clear()\n",
    "    wait.until(EC.presence_of_element_located((By.TAG_NAME,'textarea'))).send_keys(n)\n",
    "    driver.find_element_by_xpath('//section[contains(@class,\"sH9wk\")]/div/form/button').click()\n",
    "    time.sleep(7)\n",
    "    wait.until(EC.element_to_be_clickable((By.XPATH,'/html/body/div[6]/div[1]/button'))).click()#close post popup"
   ]
  },
  {
   "cell_type": "markdown",
   "id": "908185b2",
   "metadata": {},
   "source": [
    "# BLOGGER HABIT ANALYSIS"
   ]
  },
  {
   "cell_type": "markdown",
   "id": "6d994174",
   "metadata": {},
   "source": [
    "## Pie Chart Based On Number Of Posts In Last 3 Days Of Top 5 Handles( Most Followers) For A Particular Search Query"
   ]
  },
  {
   "cell_type": "code",
   "execution_count": 14,
   "id": "250c940c",
   "metadata": {},
   "outputs": [],
   "source": [
    "#scrape names of top 10 query results\n",
    "def most_popular1(query):\n",
    "    wait=WebDriverWait(driver,30)\n",
    "    btn=wait.until(EC.presence_of_element_located((By.CLASS_NAME,'XTCLo')))#find search bar element\n",
    "    btn.send_keys(query)#enter handle name\n",
    "    time.sleep(5)#wait for page to load matches\n",
    "    handles=[]\n",
    "    c=1\n",
    "    n=10\n",
    "    while(c<=n):\n",
    "        try:       \n",
    "            path='//*[@id=\"react-root\"]/section/nav/div[2]/div/div/div[2]/div[3]/div/div[2]/div/div['+str(c)+']/a/div'#select each of the matches one by one\n",
    "            name=driver.find_element_by_xpath(path)\n",
    "            if(name.text.split()[0]=='food'):#ignore if query name is same as handle\n",
    "                c+=1\n",
    "                n+=1\n",
    "                continue\n",
    "            handles.append(name.text.split()[0])\n",
    "            print(name.text.split()[0])#print handles\n",
    "            c+=1\n",
    "        except NoSuchElementException:#to check if list of matches has been exhausted\n",
    "            break\n",
    "    driver.find_element_by_class_name('coreSpriteSearchClear').click()#manually close search bar\n",
    "    time.sleep(5)\n",
    "    return handles"
   ]
  },
  {
   "cell_type": "code",
   "execution_count": 15,
   "id": "fc5f4079",
   "metadata": {},
   "outputs": [],
   "source": [
    "#scrape number of posts in last 3 days\n",
    "def most_popular2(handles):\n",
    "    wait=WebDriverWait(driver,30)\n",
    "    followers=[]\n",
    "    time_frames=['SECONDS','MINUTE','MINUTES','HOUR','HOURS','DAY','DAYS']\n",
    "    posts_3d=[]\n",
    "    for i in handles:\n",
    "        btn=wait.until(EC.presence_of_element_located((By.CLASS_NAME,'XTCLo')))#search bar\n",
    "        btn.send_keys(i)#search handle\n",
    "        wait=WebDriverWait(driver,60)\n",
    "        wait.until(EC.presence_of_element_located((By.CLASS_NAME,'-qQT3'))).click()#select first search match\n",
    "        time.sleep(5)\n",
    "        btn=wait.until(EC.presence_of_element_located((By.XPATH,'//*[@id=\"react-root\"]/section/main/div/header/section/ul/li[2]/a/div/span')))\n",
    "        followers.append(float(btn.get_attribute('title').replace(',','')))#extract number of followers\n",
    "        print(i,btn.get_attribute('title').replace(',',''))\n",
    "        driver.refresh()\n",
    "        wait.until(EC.presence_of_element_located((By.CLASS_NAME,'_9AhH0'))).click()#load and open first post\n",
    "        c=0\n",
    "        while(1):\n",
    "            try:\n",
    "                btn=wait.until(EC.visibility_of_element_located((By.CLASS_NAME,'_1o9PC')))#extract time\n",
    "                tm=btn.text.split()\n",
    "                if((tm[1]=='DAYS' and int(tm[0])>3)or(tm[1] not in time_frames)):\n",
    "                    break\n",
    "                c+=1\n",
    "                wait.until(EC.element_to_be_clickable((By.XPATH,'//div[contains(@class,\"l8mY4\")]/button'))).click()#scroll to next post without exiting\n",
    "                #driver.find_element_by_xpath('//div[contains(@class,\"l8mY4\")]/button').click()#scroll to next post without exiting\n",
    "                time.sleep(5)\n",
    "            except NoSuchElementException:\n",
    "                break\n",
    "            except :\n",
    "                continue\n",
    "        try:\n",
    "            wait.until(EC.element_to_be_clickable((By.XPATH,'/html/body/div[6]/div[1]/button'))).click()#close post popup\n",
    "        except:\n",
    "            driver.refresh()\n",
    "        posts_3d.append(c)\n",
    "    followers,handles,posts_3d=[list(v) for v in zip(*sorted(zip(followers,handles,posts_3d),reverse=True))]\n",
    "    plt.axis(\"equal\")\n",
    "    plt.pie(posts_3d[0:5],labels=handles[0:5],autopct=\"%.1f\",counterclock=False,startangle=100)\n",
    "    plt.show()\n",
    "    return followers,handles"
   ]
  },
  {
   "cell_type": "markdown",
   "id": "5a9c7688",
   "metadata": {},
   "source": [
    "# POPULAR HASHTAGS"
   ]
  },
  {
   "cell_type": "markdown",
   "id": "9dfddcfa",
   "metadata": {},
   "source": [
    "## List Of All Words Used In All The Scraped Posts And The Frequency Of Each Word From Top 10 Posts Of 5 Handles( Most Followers) For A Particular Search Query"
   ]
  },
  {
   "cell_type": "code",
   "execution_count": 16,
   "id": "9ed5e434",
   "metadata": {},
   "outputs": [],
   "source": [
    "def word_list(handles):\n",
    "    words=[]\n",
    "    freq={}\n",
    "    wait=WebDriverWait(driver,30)\n",
    "    for i in handles[0:5]:\n",
    "        btn=wait.until(EC.presence_of_element_located((By.CLASS_NAME,'XTCLo')))#search bar\n",
    "        btn.send_keys(i)#search handle\n",
    "        wait=WebDriverWait(driver,20)\n",
    "        wait.until(EC.presence_of_element_located((By.CLASS_NAME,'-qQT3'))).click()#select first search match\n",
    "        driver.refresh()\n",
    "        wait.until(EC.presence_of_element_located((By.CLASS_NAME,'_9AhH0'))).click()#load and open first post\n",
    "        #time.sleep(4)\n",
    "        c=1\n",
    "        while(c<=10):\n",
    "            try:\n",
    "                btn=wait.until(EC.visibility_of_element_located((By.XPATH,'/html/body/div[6]/div[3]/div/article/div/div[2]/div/div/div[2]/div[1]/ul/div/li/div/div/div[2]/div[1]')))#post text\n",
    "                print(c)\n",
    "                #print(btn.text.replace(\",\",\" \").replace(\".\",\" \").split())\n",
    "                words.append(btn.text.replace(\",\",\" \").replace(\".\",\" \").split())\n",
    "                c+=1\n",
    "                wait.until(EC.element_to_be_clickable((By.XPATH,'//div[contains(@class,\"l8mY4\")]/button'))).click()#scroll to next post without exiting\n",
    "                #time.sleep(5)\n",
    "            except NoSuchElementException:\n",
    "                break\n",
    "            except :\n",
    "                continue\n",
    "        try:\n",
    "            wait.until(EC.element_to_be_clickable((By.XPATH,'/html/body/div[6]/div[1]/button'))).click()#close post popup\n",
    "        except:\n",
    "            driver.refresh()\n",
    "    pd.set_option('display.max_rows', 1000)\n",
    "    print(words)\n",
    "    dic={}\n",
    "    for i in words:#convert words into dictionary\n",
    "        for j in i:\n",
    "            dic[j]=dic.get(j,0)+1\n",
    "    df = df = pd.DataFrame.from_dict(dic.items())#convert into dataframe\n",
    "    df.columns = [\"Word\",\"Frequency\"]\n",
    "    df.to_csv('Word_Freq_Final.csv')\n",
    "    display(df)\n",
    "    hashtag={}\n",
    "    for i in range(len(df)):\n",
    "        if(df.iloc[i,0][0]=='#'):\n",
    "            hashtag[df.iloc[i,0]]=df.iloc[i,1]\n",
    "    hashtag=dict(sorted(hashtag.items(),key=lambda x:x[1],reverse=True)[0:5])\n",
    "    print(hashtag)    \n",
    "    plt.axis(\"equal\")\n",
    "    plt.pie(hashtag.values(),labels=hashtag.keys(),autopct=\"%.1f\",counterclock=False,startangle=100)\n",
    "    plt.show()\n",
    "    return df"
   ]
  },
  {
   "cell_type": "markdown",
   "id": "292512fd",
   "metadata": {},
   "source": [
    "# AVERAGE FOLLOWERS : LIKES RATIO"
   ]
  },
  {
   "cell_type": "code",
   "execution_count": 17,
   "id": "f9dcfbc6",
   "metadata": {},
   "outputs": [],
   "source": [
    "#The average likes for a handle from top 10 posts of the 5 most followed handles obtained from search query\n",
    "def follower_like(handles,followers):\n",
    "    wait=WebDriverWait(driver,2)\n",
    "    avglikes=[]\n",
    "    #handles=['dilsefoodie', 'foodie_incarnate', 'foodtalkindia', 'bongeats', 'twelfthmantweets']\n",
    "    #followers=[1004175.0, 1287715.0, 308511.0, 3117.0, 82748.0, 309277.0]\n",
    "    for i in handles[0:5]:\n",
    "        likes=0\n",
    "        btn=wait.until(EC.presence_of_element_located((By.CLASS_NAME,'XTCLo')))#search bar\n",
    "        btn.send_keys(i)#search handle\n",
    "        wait=WebDriverWait(driver,30)\n",
    "        wait.until(EC.presence_of_element_located((By.CLASS_NAME,'-qQT3'))).click()#select first search match\n",
    "        driver.refresh()\n",
    "        wait.until(EC.presence_of_element_located((By.CLASS_NAME,'_9AhH0'))).click()#load and open first post\n",
    "        #time.sleep(4)\n",
    "        c=0\n",
    "        while(c<=10):\n",
    "            try:\n",
    "                btn\n",
    "                try:\n",
    "                    btn=wait.until(EC.visibility_of_element_located((By.XPATH,'//section[contains(@class,\"EDfFK\")]/div/div/div')))#LIKES\n",
    "                except:\n",
    "                    btn=wait.until(EC.visibility_of_element_located((By.XPATH,'//section[contains(@class,\"EDfFK\")]/div/span/div')))#VIEWS\n",
    "                if('views' in btn.text.split()):#when views are rpesent\n",
    "                    btn.click()\n",
    "                    btn2=driver.find_element_by_xpath('//section[contains(@class,\"EDfFK\")]/div/div/div[4]/span')\n",
    "                    likes+=int(btn2.text.replace(',',''))\n",
    "                    print(int(btn2.text.replace(',','')))#extract number of likes    \n",
    "                elif('others' in btn.text.split()):#when friends follow\n",
    "                    likes+=int(btn.text.replace(',','').split()[4])+1\n",
    "                    print(int(btn.text.replace(',','').split()[4])+1)\n",
    "                else:\n",
    "                    likes+=int(btn.text.replace(',','').split()[0])\n",
    "                    print(int(btn.text.replace(',','').split()[0]))\n",
    "                c+=1\n",
    "                wait.until(EC.element_to_be_clickable((By.XPATH,'//div[contains(@class,\"l8mY4\")]/button'))).click()#scroll to next post without exiting\n",
    "                #time.sleep(5)\n",
    "            except:\n",
    "                continue\n",
    "        try:\n",
    "            wait.until(EC.element_to_be_clickable((By.XPATH,'/html/body/div[6]/div[1]/button'))).click()#close post popup\n",
    "        except:\n",
    "            driver.refresh()\n",
    "        avglikes.append(likes/10)\n",
    "    #print(followers)\n",
    "    3print(handles)\n",
    "    3print(avglikes)\n",
    "    #Divide the average likes obtained from the number of followers of the handle to get the average followers:like ratio of each handle.Create a bar graph to depict the above obtained information.\n",
    "    avgfollowers=[followers[i]/avglikes[i] for i in range(len(avglikes))]\n",
    "    plt.xticks(rotation=90)\n",
    "    plt.grid()\n",
    "    plt.bar(handles[0:5],avgfollowers[0:5])\n",
    "    plt.show()"
   ]
  },
  {
   "cell_type": "markdown",
   "id": "53d9a042",
   "metadata": {},
   "source": [
    "# RETURN TO HOME PAGE"
   ]
  },
  {
   "cell_type": "code",
   "execution_count": 18,
   "id": "bd006c31",
   "metadata": {},
   "outputs": [],
   "source": [
    "def home():\n",
    "    driver.find_element_by_xpath('//*[@id=\"react-root\"]/section/nav/div[2]/div/div/div[1]/a/div').click()"
   ]
  },
  {
   "cell_type": "markdown",
   "id": "918bbb70",
   "metadata": {},
   "source": [
    "# CALLING FUNCTION"
   ]
  },
  {
   "cell_type": "code",
   "execution_count": 19,
   "id": "d9e4307a",
   "metadata": {},
   "outputs": [
    {
     "name": "stdout",
     "output_type": "stream",
     "text": [
      "Enter Choice:0\n",
      "Enter Username:shreyansaha18@gmail.com\n",
      "Enter Password:instasheizer\n",
      "Enter Choice:13\n",
      "4477\n",
      "6342\n",
      "3751\n",
      "14042\n",
      "15225\n",
      "8816\n",
      "24257\n",
      "7203\n",
      "3273\n",
      "5461\n",
      "5780\n",
      "8689\n",
      "12729\n",
      "17016\n",
      "55014\n",
      "10471\n",
      "12521\n",
      "39667\n",
      "17189\n",
      "17873\n",
      "1055057\n",
      "14338\n",
      "24\n",
      "175\n",
      "2100\n",
      "232\n",
      "280\n",
      "918\n",
      "117\n",
      "72\n",
      "63\n",
      "46\n",
      "268\n",
      "2526\n",
      "1526\n",
      "3345\n",
      "1639\n",
      "1367\n",
      "3096\n",
      "714\n",
      "3657\n",
      "2225\n",
      "1193\n",
      "2270\n",
      "37864\n",
      "45430\n",
      "32906\n",
      "77448\n",
      "181501\n",
      "42027\n",
      "29241\n",
      "18516\n",
      "34326\n",
      "38180\n",
      "39015\n",
      "[1004175.0, 1287715.0, 308511.0, 3117.0, 82748.0, 309277.0]\n",
      "['dilsefoodie', 'foodie_incarnate', 'foodtalkindia', 'bongeats', 'twelfthmantweets']\n",
      "[9862.7, 126056.4, 429.5, 2355.8, 57645.4]\n"
     ]
    },
    {
     "data": {
      "image/png": "[encoded data removed]",
      "text/plain": [
       "<Figure size 432x288 with 1 Axes>"
      ]
     },
     "metadata": {
      "needs_background": "light"
     },
     "output_type": "display_data"
    },
    {
     "name": "stdout",
     "output_type": "stream",
     "text": [
      "Enter Choice:15\n"
     ]
    }
   ],
   "source": [
    "handle_followers=[]\n",
    "handles=[]\n",
    "followers=[]\n",
    "df=pd.DataFrame()\n",
    "while(1):\n",
    "    try:\n",
    "        driver.refresh()\n",
    "        choice=int(input(\"Enter Choice:\"))\n",
    "        if choice==0:\n",
    "            user=input(\"Enter Username:\")\n",
    "            pwd=input(\"Enter Password:\")\n",
    "            login(user,pwd)\n",
    "        elif choice==1:\n",
    "            query=input(\"Enter Keyword:\")\n",
    "            search(query)\n",
    "        elif choice==2:\n",
    "            name=input(\"Enter Profile Name:\")\n",
    "            openProf(name)\n",
    "        elif choice==3:\n",
    "            follow()\n",
    "        elif choice==4:\n",
    "            unfollow()\n",
    "        elif choice==5:\n",
    "            num=int(input(\"Enter number of posts to like:\"))\n",
    "            like(num)\n",
    "        elif choice==6:\n",
    "            num=int(input(\"Enter number of posts to unlike:\"))\n",
    "            unlike(num)\n",
    "        elif choice==7:\n",
    "            n=int(input(\"Enter number of followers to extract:\"))\n",
    "            handle=input(\"Enter Profile Name:\")\n",
    "            handle_followers=followers(handle,n)\n",
    "        elif choice==8:\n",
    "            n=int(input(\"Enter number of followers and following to extract:\"))\n",
    "            own(handle_followers,n)#issue\n",
    "        elif choice==9:\n",
    "            story()\n",
    "        elif choice==10:\n",
    "            n=input(\"Enter comment:\")\n",
    "            comment(n)\n",
    "        elif choice==11:\n",
    "            n=input(\"Enter Keyword:\")\n",
    "            handles=most_popular1(n)\n",
    "            followers,handles=most_popular2(handles)\n",
    "            print(handles)\n",
    "        elif choice==12:\n",
    "            handles=['foodkaseries', 'dilsefoodie', 'foodie_incarnate', 'foodtalkindia', 'bongeats']\n",
    "            df=word_list(handles)\n",
    "        elif choice==13:\n",
    "            #handles=['dilsefoodie', 'foodie_incarnate', 'foodtalkindia', 'bongeats', 'twelfthmantweets']\n",
    "            #followers=[1004175.0, 1287715.0, 308511.0, 3117.0, 82748.0, 309277.0]\n",
    "            follower_like(handles,followers)\n",
    "        elif choice==14:\n",
    "            home()\n",
    "        elif choice==15: \n",
    "            break\n",
    "    except:\n",
    "        pass"
   ]
  }
 ],
 "metadata": {
  "kernelspec": {
   "display_name": "Python 3 (ipykernel)",
   "language": "python",
   "name": "python3"
  },
  "language_info": {
   "codemirror_mode": {
    "name": "ipython",
    "version": 3
   },
   "file_extension": ".py",
   "mimetype": "text/x-python",
   "name": "python",
   "nbconvert_exporter": "python",
   "pygments_lexer": "ipython3",
   "version": "3.8.3"
  }
 },
 "nbformat": 4,
 "nbformat_minor": 5
}
